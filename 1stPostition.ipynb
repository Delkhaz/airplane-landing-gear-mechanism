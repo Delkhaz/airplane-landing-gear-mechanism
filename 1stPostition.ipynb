{
 "cells": [
  {
   "cell_type": "markdown",
   "metadata": {},
   "source": [
    "#   1st Position"
   ]
  },
  {
   "cell_type": "markdown",
   "metadata": {},
   "source": [
    "    "
   ]
  },
  {
   "cell_type": "markdown",
   "metadata": {},
   "source": [
    "$ \\vec{r}_2 - \\vec{r}_4 + \\vec{r}_3 - \\vec{r}_1 = 0 $"
   ]
  },
  {
   "cell_type": "markdown",
   "metadata": {},
   "source": [
    "$\\vec{r}_2 \\cos \\theta_2 - \\vec{r}_4 \\cos \\theta_4 + \\vec{r}_3 \\cos \\theta_3 - \\vec{r}_1 \\cos \\theta_1 = 0 $\n",
    "$\\vec{r}_2 \\sin \\theta_2 - \\vec{r}_4 \\sin \\theta_4 + \\vec{r}_3 \\sin \\theta_3 - \\vec{r}_1 \\sin \\theta_1 = 0 $\n"
   ]
  },
  {
   "cell_type": "markdown",
   "metadata": {},
   "source": [
    "$ ----------------------- $"
   ]
  },
  {
   "cell_type": "markdown",
   "metadata": {},
   "source": [
    "$ \\vec{r}_2 + \\vec{r}_3 - \\vec{r}_4 - \\vec{r}_1 = 0 $"
   ]
  },
  {
   "cell_type": "markdown",
   "metadata": {},
   "source": [
    "$\\vec{r}_2 \\cos \\theta_2 + \\vec{r}_3 \\cos \\theta_3 - \\vec{r}_4 \\cos \\theta_4 - \\vec{r}_1 \\cos \\theta_1 = 0 $\n",
    "$\\vec{r}_2 \\sin \\theta_2 + \\vec{r}_3 \\sin \\theta_3 - \\vec{r}_4 \\sin \\theta_4 - \\vec{r}_1 \\sin \\theta_1 = 0 $\n",
    "\n",
    "$-\\vec{r}_2 + \\vec{r}_3 \\cos \\theta_3 - vec{r}_4 \\cos \\theta_4 - \\vec{r}_1 = 0 $\n",
    "\n",
    "$\\vec{r}_3 \\sin \\theta_3 - \\vec{r}_4 \\sin \\theta_4 = 0$\n",
    "\n",
    "$(\\vec{r}_3 \\cos \\theta_3)^2 = (\\vec{r}_2 + \\vec{r}_4 \\cos \\theta_4)^2 $\n",
    "\n",
    "$(\\vec{r}_3 \\sin \\theta_3)^2 = (\\vec{r}_4 \\sin \\theta_4)^2 $\n"
   ]
  },
  {
   "cell_type": "markdown",
   "metadata": {},
   "source": [
    "$(\\vec{r}_3 \\cos \\theta_3)^2 = (\\vec{r}_2 + \\vec{r}_4 \\cos \\theta_4 + \\vec{r}_1)^2$\n",
    "\n",
    "$\\vec{r}_3^2 \\sin \\theta_3 = \\vec{r}_4^2 \\sin^2 \\theta_4$\n",
    "\n",
    "$\\vec{r}_3^2 \\cos^2 \\theta_3 = \\vec{r}_2^2 4 + \\vec{r}_4^2 \\cos \\theta_4 + \\vec{r}_1^2 + \\vec{r}_2\\vec{r}_4 \\cos \\theta_4 + \\vec{r}_4^2 \\cos \\theta_4 + \\vec{r}_1 \\cos \\theta_1  $\n",
    "\n",
    "$\\boxed{\\vec{r}_3^2 = \\vec{r}_2^2 + \\vec{r}_4^2 + 2\\vec{r}_2 \\vec{r}_4 \\cos \\theta_4}$    "
   ]
  },
  {
   "cell_type": "markdown",
   "metadata": {},
   "source": [
    "$\\vec{r}_3^2 \\cos^2 \\theta_3 = \\vec{r}_2^2 + \\vec{r}_1^2 + 2\\vec{r}_2 \\vec{r}_1 \\cos \\theta_1 + 2\\vec{r}_1^2 + 2\\vec{r}_1 \\vec{r}_4 \\cos \\theta_4 + \\vec{r}_4^2 \\cos \\theta_4 $\n",
    "\n",
    "$\\vec{r}_3^2 \\sin^2 \\theta_3 =\\vec{r}_4^2 \\sin^2 \\theta_4$\n",
    "\n",
    "$\\vec{r}_3^2 = \\vec{r}_2^2 + \\vec{r}_1^2 + \\vec{r}_4^2 + 2\\vec{r}_2 \\vec{r}_4 \\cos \\theta_4 + 2\\vec{r}_1 \\vec{r}_2 + 2\\vec{r}_1 \\vec{r}_4 \\cos \\theta_4 $\n",
    "\n",
    "$\\vec{r}_3^2 - \\vec{r}_2^2 - \\vec{r}_2^2 - \\vec{r}_4^2 - 2\\vec{r}_1 \\vec{r}_2 = A $     "
   ]
  },
  {
   "cell_type": "markdown",
   "metadata": {},
   "source": [
    "$A_1 \\cos \\theta_4 = C$ \n",
    "\n",
    "$A_1 = 2\\vec{r}_4(\\vec{r}_2 + \\vec{r}_1)$\n",
    "\n",
    "$B = 0 , B_1 = 0$ "
   ]
  },
  {
   "cell_type": "markdown",
   "metadata": {},
   "source": [
    "$2\\vec{r}_2 \\vec{r}_4 \\cos \\theta_4 + 2\\vec{r}_1 \\vec{r}_4 \\cos \\theta_4 $\n",
    "\n",
    "$(2\\vec{r}_4 (\\vec{r}_2 + \\vec{r}_1)\\cos \\theta_4$ \n",
    "\n",
    "$C_1 = \\vec{r}_3^2 - \\vec{r}_2^2 - \\vec{r}_1^2 - \\vec{r}_4^2 - 2\\vec{r}_1 \\vec{r}_2$"
   ]
  },
  {
   "cell_type": "code",
   "execution_count": null,
   "metadata": {},
   "outputs": [],
   "source": []
  }
 ],
 "metadata": {
  "kernelspec": {
   "display_name": "Python 3",
   "language": "python",
   "name": "python3"
  },
  "language_info": {
   "codemirror_mode": {
    "name": "ipython",
    "version": 3
   },
   "file_extension": ".py",
   "mimetype": "text/x-python",
   "name": "python",
   "nbconvert_exporter": "python",
   "pygments_lexer": "ipython3",
   "version": "3.5.3"
  }
 },
 "nbformat": 4,
 "nbformat_minor": 2
}
